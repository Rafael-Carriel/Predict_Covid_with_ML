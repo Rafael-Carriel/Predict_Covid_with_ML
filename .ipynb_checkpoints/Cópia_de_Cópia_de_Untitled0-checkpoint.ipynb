{
 "cells": [
  {
   "cell_type": "code",
   "execution_count": 1,
   "metadata": {
    "id": "_2Xa6H4bmijg"
   },
   "outputs": [],
   "source": [
    "import pandas as pd\n",
    "import seaborn as sns\n",
    "import numpy as np\n",
    "import warnings\n",
    "from datetime import datetime\n",
    "from sklearn.impute import SimpleImputer\n",
    "from sklearn.preprocessing import MinMaxScaler, StandardScaler\n",
    "from sklearn.feature_selection import SelectKBest, f_classif\n",
    "from sklearn.feature_selection import RFE\n",
    "from sklearn.svm import SVR\n",
    "warnings.filterwarnings(\"ignore\")\n",
    "\n",
    "pd.set_option('display.max_columns', None)"
   ]
  },
  {
   "cell_type": "code",
   "execution_count": 2,
   "metadata": {
    "colab": {
     "base_uri": "https://localhost:8080/",
     "height": 382
    },
    "id": "jt0LJhLDsGy2",
    "outputId": "6e44f6ff-91c1-4e08-91ae-eee37240d733"
   },
   "outputs": [
    {
     "name": "stdout",
     "output_type": "stream",
     "text": [
      "<class 'pandas.core.frame.DataFrame'>\n",
      "RangeIndex: 554328 entries, 0 to 554327\n",
      "Data columns (total 1 columns):\n",
      " #   Column                                                                                                                                                                                                                                                                                                                                                                                                                                                                                                                                                                                                                                                                                                                                                                                                                                                                                                                                                                                                                                                                                                                                                                                                                                                                                                                                                                                                                                                                                                                                                                                                                                                                                                                                                                                                                                                                                                                                                                                                                                                                                         Non-Null Count   Dtype \n",
      "---  ------                                                                                                                                                                                                                                                                                                                                                                                                                                                                                                                                                                                                                                                                                                                                                                                                                                                                                                                                                                                                                                                                                                                                                                                                                                                                                                                                                                                                                                                                                                                                                                                                                                                                                                                                                                                                                                                                                                                                                                                                                                                                                         --------------   ----- \n",
      " 0   DT_NOTIFIC,\"SEM_NOT\",\"DT_SIN_PRI\",\"SEM_PRI\",\"SG_UF_NOT\",\"ID_REGIONA\",\"CO_REGIONA\",\"ID_MUNICIP\",\"CO_MUN_NOT\",\"ID_UNIDADE\",\"CO_UNI_NOT\",\"CS_SEXO\",\"DT_NASC\",\"NU_IDADE_N\",\"TP_IDADE\",\"COD_IDADE\",\"CS_GESTANT\",\"CS_RACA\",\"CS_ESCOL_N\",\"ID_PAIS\",\"CO_PAIS\",\"SG_UF\",\"ID_RG_RESI\",\"CO_RG_RESI\",\"ID_MN_RESI\",\"CO_MUN_RES\",\"CS_ZONA\",\"SURTO_SG\",\"NOSOCOMIAL\",\"AVE_SUINO\",\"FEBRE\",\"TOSSE\",\"GARGANTA\",\"DISPNEIA\",\"DESC_RESP\",\"SATURACAO\",\"DIARREIA\",\"VOMITO\",\"OUTRO_SIN\",\"OUTRO_DES\",\"PUERPERA\",\"FATOR_RISC\",\"CARDIOPATI\",\"HEMATOLOGI\",\"SIND_DOWN\",\"HEPATICA\",\"ASMA\",\"DIABETES\",\"NEUROLOGIC\",\"PNEUMOPATI\",\"IMUNODEPRE\",\"RENAL\",\"OBESIDADE\",\"OBES_IMC\",\"OUT_MORBI\",\"MORB_DESC\",\"VACINA\",\"DT_UT_DOSE\",\"MAE_VAC\",\"DT_VAC_MAE\",\"M_AMAMENTA\",\"DT_DOSEUNI\",\"DT_1_DOSE\",\"DT_2_DOSE\",\"ANTIVIRAL\",\"TP_ANTIVIR\",\"OUT_ANTIV\",\"DT_ANTIVIR\",\"HOSPITAL\",\"DT_INTERNA\",\"SG_UF_INTE\",\"ID_RG_INTE\",\"CO_RG_INTE\",\"ID_MN_INTE\",\"CO_MU_INTE\",\"UTI\",\"DT_ENTUTI\",\"DT_SAIDUTI\",\"SUPORT_VEN\",\"RAIOX_RES\",\"RAIOX_OUT\",\"DT_RAIOX\",\"AMOSTRA\",\"DT_COLETA\",\"TP_AMOSTRA\",\"OUT_AMOST\",\"PCR_RESUL\",\"DT_PCR\",\"POS_PCRFLU\",\"TP_FLU_PCR\",\"PCR_FLUASU\",\"FLUASU_OUT\",\"PCR_FLUBLI\",\"FLUBLI_OUT\",\"POS_PCROUT\",\"PCR_VSR\",\"PCR_PARA1\",\"PCR_PARA2\",\"PCR_PARA3\",\"PCR_PARA4\",\"PCR_ADENO\",\"PCR_METAP\",\"PCR_BOCA\",\"PCR_RINO\",\"PCR_OUTRO\",\"DS_PCR_OUT\",\"CLASSI_FIN\",\"CLASSI_OUT\",\"CRITERIO\",\"EVOLUCAO\",\"DT_EVOLUCA\",\"DT_ENCERRA\",\"DT_DIGITA\",\"HISTO_VGM\",\"PAIS_VGM\",\"CO_PS_VGM\",\"LO_PS_VGM\",\"DT_VGM\",\"DT_RT_VGM\",\"PCR_SARS2\",\"PAC_COCBO\",\"PAC_DSCBO\",\"OUT_ANIM\",\"DOR_ABD\",\"FADIGA\",\"PERD_OLFT\",\"PERD_PALA\",\"TOMO_RES\",\"TOMO_OUT\",\"DT_TOMO\",\"TP_TES_AN\",\"DT_RES_AN\",\"RES_AN\",\"POS_AN_FLU\",\"TP_FLU_AN\",\"POS_AN_OUT\",\"AN_SARS2\",\"AN_VSR\",\"AN_PARA1\",\"AN_PARA2\",\"AN_PARA3\",\"AN_ADENO\",\"AN_OUTRO\",\"DS_AN_OUT\",\"TP_AM_SOR\",\"SOR_OUT\",\"DT_CO_SOR\",\"TP_SOR\",\"OUT_SOR\",\"DT_RES\",\"RES_IGG\",\"RES_IGM\",\"RES_IGA\",\"ESTRANG\",\"VACINA_COV\",\"DOSE_1_COV\",\"DOSE_2_COV\",\"DOSE_REF\",\"FAB_COV_1\",\"FAB_COV_2\",\"FAB_COVREF\",\"LAB_PR_COV\",\"LOTE_1_COV\",\"LOTE_2_COV\",\"LOTE_REF\",\"FNT_IN_COV\",\"DOSE_2REF\",\"FAB_COVRF2\",\"LOTE_REF2\",\"TRAT_COV\",\"TIPO_TRAT\",\"OUT_TRAT\",\"DT_TRT_COV\"  554328 non-null  object\n",
      "dtypes: object(1)\n",
      "memory usage: 4.2+ MB\n",
      "Read in 554328 rows\n"
     ]
    }
   ],
   "source": [
    "#link do repositorio do dataset\n",
    "url = \"/datacov.csv\"\n",
    "\n",
    "#leitura do dataset\n",
    "data = pd.read_csv(url,sep=',', na_filter = True)\n",
    "data.info()\n",
    "print(f\"Read in {len(data)} rows\")"
   ]
  },
  {
   "cell_type": "code",
   "execution_count": null,
   "metadata": {
    "id": "61BmcDnhtgZU"
   },
   "outputs": [],
   "source": [
    "#Remoção das colunas que são inuteis ou redundantes\n",
    "data.drop(['DT_NASC', 'TP_IDADE','CS_ESCOL_N', 'CO_PAIS', 'DT_DIGITA', 'FNT_IN_COV', 'ID_PAIS','LOTE_2_COV','FAB_COV_1',\n",
    "        'AVE_SUINO', 'POS_PCRFLU', 'POS_PCROUT', 'HISTO_VGM', 'PCR_SARS2', 'ID_REGIONA','ID_MUNICIP','FAB_COV_2','LAB_PR_COV',\n",
    "        'ID_UNIDADE', 'ID_RG_RESI', 'ID_MN_RESI', 'ID_RG_INTE', 'ID_MN_INTE', 'COD_IDADE', 'LOTE_1_COV',\n",
    "          ], axis=1, inplace=True)\n",
    "data.shape"
   ]
  },
  {
   "cell_type": "code",
   "execution_count": null,
   "metadata": {
    "id": "mMXxJfUmtlXH"
   },
   "outputs": [],
   "source": [
    "#remove as linhas onde o valor da coluna EVOLUCAO é 3 ou 9\n",
    "aux = data[(data['EVOLUCAO'] == 3) | (data['EVOLUCAO'] == 9)].index\n",
    "data.drop(aux, inplace=True)\n",
    "data.shape"
   ]
  },
  {
   "cell_type": "code",
   "execution_count": null,
   "metadata": {
    "id": "-b3Jqa1Gtooi"
   },
   "outputs": [],
   "source": [
    "#só muda o dataset de uma variavel para outra\n",
    "x = data\n",
    "x.head()"
   ]
  },
  {
   "cell_type": "code",
   "execution_count": null,
   "metadata": {
    "id": "x2uG5COvttDd"
   },
   "outputs": [],
   "source": [
    "#mantem somente os dados relacionas ao estado do paraná, e depois faz a remoção das colunas com relação a localização do estado\n",
    "aux = x[(x['SG_UF_NOT'] != 'PR')].index\n",
    "x.drop(aux , inplace=True)\n",
    "x.drop(['SG_UF_NOT','SG_UF','SG_UF_INTE'], axis=1, inplace=True)\n",
    "x.shape"
   ]
  },
  {
   "cell_type": "code",
   "execution_count": null,
   "metadata": {
    "id": "eMHTufWhtxA6"
   },
   "outputs": [],
   "source": [
    "#mantém somente as linhas aonde os casos são COVID19\n",
    "aux = x[(x['CLASSI_FIN'] != 5)].index\n",
    "x.drop(aux , inplace=True)\n",
    "x.drop(['CLASSI_FIN'], axis=1, inplace=True)\n",
    "x.shape"
   ]
  },
  {
   "cell_type": "code",
   "execution_count": null,
   "metadata": {
    "id": "Bl_g4Uu5t0CN"
   },
   "outputs": [],
   "source": [
    "#Faz a separação das colunas em que o 9 representa algo, e depois substitui nas colunas restantes os valores 9 por NaN\n",
    "number_columns = x[['SEM_NOT','SEM_PRI','NU_IDADE_N','CS_GESTANT','OBES_IMC']]\n",
    "x.drop(['SEM_NOT','SEM_PRI','NU_IDADE_N','CS_GESTANT','OBES_IMC'], axis=1, inplace=True)\n",
    "x = x.replace(9, np.nan)\n",
    "x = pd.concat([x, number_columns], axis=1)"
   ]
  },
  {
   "cell_type": "code",
   "execution_count": null,
   "metadata": {
    "id": "CiP6KDFYt39K"
   },
   "outputs": [],
   "source": [
    "#remoção das colunas com 50% de dados faltantes\n",
    "x.dropna(axis=1, thresh=9111, subset=None, inplace=True)\n",
    "x.shape"
   ]
  },
  {
   "cell_type": "code",
   "execution_count": null,
   "metadata": {
    "id": "uMWyYVpxuSn2"
   },
   "outputs": [],
   "source": [
    "#Remoção das linhas com 50% de dados faltantes\n",
    "x.dropna(axis=0, thresh=38, subset=None, inplace=True)\n",
    "x.shape"
   ]
  },
  {
   "cell_type": "code",
   "execution_count": null,
   "metadata": {
    "id": "4rOD7BGIuSvI"
   },
   "outputs": [],
   "source": [
    "#transformação da data de notificação e encerramento, depois faz uma subtração para saber o total de dias que o paciente ficou acometido\n",
    "x['DT_NOTIFIC'] = pd.to_datetime(x['DT_NOTIFIC'])\n",
    "x['DT_ENCERRA'] = pd.to_datetime(x['DT_ENCERRA'])\n",
    "x['TEMP_T'] = (x['DT_ENCERRA'] - x['DT_NOTIFIC']).dt.days\n",
    "x = x.drop(['DT_NOTIFIC', 'DT_ENCERRA'],axis=1)"
   ]
  },
  {
   "cell_type": "code",
   "execution_count": null,
   "metadata": {
    "id": "FvXR_i0euaa0"
   },
   "outputs": [],
   "source": [
    "#Transformação das outras datas e da coluna sexo\n",
    "dates = ['DT_SIN_PRI', 'DT_INTERNA', 'DT_COLETA', 'DT_PCR', 'DT_EVOLUCA', 'DOSE_1_COV', 'DOSE_2_COV']\n",
    "for column in dates:\n",
    "  x[column] = pd.to_datetime(x[column],infer_datetime_format=True, errors='coerce' ).apply(datetime.toordinal)\n",
    "x[\"CS_SEXO\"] = x[\"CS_SEXO\"].replace({\"F\": 0, \"M\": 1})\n",
    "x[\"EVOLUCAO\"] = x[\"EVOLUCAO\"].replace({1 : 0, 2 : 1})"
   ]
  },
  {
   "cell_type": "code",
   "execution_count": null,
   "metadata": {
    "id": "R_9NbUZmvSJE"
   },
   "outputs": [],
   "source": [
    "x.head()"
   ]
  },
  {
   "cell_type": "code",
   "execution_count": null,
   "metadata": {
    "id": "y9ifCtonxjKx"
   },
   "outputs": [],
   "source": [
    "#separação dos dados numericos do restante do dataset\n",
    "dadosnumericos = x[['SEM_NOT', 'SEM_PRI', 'NU_IDADE_N', 'CS_GESTANT', 'DT_SIN_PRI1', 'DT_INTERNA1', 'DT_COLETA1',\n",
    "                   'DT_PCR1', 'DT_EVOLUCA1', 'TEMP_T', 'DOSE_1_COV1', 'DOSE_2_COV1']]\n",
    "\n",
    "x.drop(columns=['SEM_NOT', 'SEM_PRI', 'NU_IDADE_N', 'CS_GESTANT', 'DT_SIN_PRI1', 'DT_INTERNA1', 'DT_COLETA1', 'DT_PCR1', 'DT_EVOLUCA1', 'DOSE_1_COV1', 'DOSE_2_COV1'], inplace=True)\n",
    "\n",
    "#aplica no conjunto de dados numericos, o método de preenchimento automatico pela mediana\n",
    "imputer = SimpleImputer(missing_values=np.nan, strategy='median')\n",
    "nome = dadosnumericos.columns\n",
    "imputer = imputer.fit(dadosnumericos)\n",
    "dadosnumericos = imputer.transform(dadosnumericos)\n",
    "dadosnumericos = pd.DataFrame(dadosnumericos)\n",
    "dadosnumericos.columns = nome\n",
    "\n",
    "scaler = MinMaxScaler()\n",
    "dadosnumericosminmax = scaler.fit_transform(dadosnumericos)\n",
    "dadosnumericosminmax = pd.DataFrame(dadosnumericos)\n",
    "dadosnumericosminmax.columns = nome\n",
    "\n",
    "scaler = StandardScaler()\n",
    "dadosnumericosscaler = scaler.fit_transform(dadosnumericos)\n",
    "dadosnumericosscaler = pd.DataFrame(dadosnumericos)\n",
    "dadosnumericosscaler.columns = nome\n",
    "\n",
    "#aplica pro restante do dataset o método de preenchimento automatico pelo most_frequent\n",
    "imputer = SimpleImputer(missing_values=np.nan, strategy='most_frequent')\n",
    "nomes = x.columns\n",
    "imputer = imputer.fit(x)\n",
    "x = imputer.transform(x)\n",
    "x = pd.DataFrame(x)\n",
    "x.columns = nomes\n",
    "\n",
    "\n",
    "x_minmax = pd.concat([x, dadosnumericosminmax], axis=1)\n",
    "x_minmax.loc[x_minmax['VACINA_COV'] == 2.0, ['DOSE_1_COV1', 'DOSE_2_COV1']] = 0\n",
    "\n",
    "x_scaler = pd.concat([x, dadosnumericosscaler], axis=1)\n",
    "x_scaler.loc[x_scaler['VACINA_COV'] == 2.0, ['DOSE_1_COV1', 'DOSE_2_COV1']] = 0\n",
    "\n",
    "#volta a juntar os conjuntos para formar o dataset principal\n",
    "x = pd.concat([x, dadosnumericos], axis=1)\n",
    "x.loc[x['VACINA_COV'] == 2.0, ['DOSE_1_COV1', 'DOSE_2_COV1']] = 0"
   ]
  },
  {
   "cell_type": "code",
   "execution_count": null,
   "metadata": {
    "id": "t_-R9yU8xtCk"
   },
   "outputs": [],
   "source": [
    "#separa a coluna de resposta do dataset\n",
    "y = x['EVOLUCAO']\n",
    "x = x.drop(columns= 'EVOLUCAO')\n",
    "x_minmax = x_minmax.drop(columns='EVOLUCAO')\n",
    "x_scaler = x_scaler.drop(columns='EVOLUCAO')\n",
    "pd.set_option('display.max_rows', None)\n",
    "#x.iloc[0:20, :]"
   ]
  },
  {
   "cell_type": "code",
   "execution_count": null,
   "metadata": {
    "id": "h09As-ZjYPxg"
   },
   "outputs": [],
   "source": [
    "x.shape"
   ]
  },
  {
   "cell_type": "code",
   "execution_count": null,
   "metadata": {
    "id": "hWraXLmRavsv"
   },
   "outputs": [],
   "source": [
    "#implementação do seletor de caracteristicas\n",
    "\n",
    "#selector = SelectKBest(score_func=f_classif, k=40)\n",
    "#selector.fit_transform(x, y)\n",
    "#importances = selector.scores_\n",
    "#for feature_name, score in zip(x.columns.tolist(), importances):\n",
    "    #print(f\"A coluna {feature_name} tem um nível de importância de {score}\")\n",
    "\n",
    "#estimator = SVR(kernel=\"linear\")\n",
    "#selector = RFE(estimator, n_features_to_select=40, step=10)\n",
    "#selector = selector.fit(x, y)\n",
    "x.head()"
   ]
  },
  {
   "cell_type": "code",
   "execution_count": null,
   "metadata": {
    "id": "B3SGXDcPxyYL"
   },
   "outputs": [],
   "source": [
    "#aqui acontece a classificação\n",
    "from sklearn.model_selection import cross_val_score\n",
    "from sklearn.ensemble import RandomForestClassifier\n",
    "clf = RandomForestClassifier(max_depth=5, random_state=43)\n",
    "\n",
    "score = cross_val_score(clf, x, y, cv=10)\n",
    "print(f\"Accuracy of floresta aleátoria sem normalização:{score}\")\n",
    "print('Média: {:.2} | Desvio: {:.2}'.format(np.mean(score), np.std(score)))\n",
    "\n",
    "score = cross_val_score(clf, x_minmax, y, cv=10)\n",
    "print(f\"Accuracy of floresta aleátoria com minmax:{score}\")\n",
    "print('Média: {:.2} | Desvio: {:.2}'.format(np.mean(score), np.std(score)))\n",
    "\n",
    "score = cross_val_score(clf, x_scaler, y, cv=10)\n",
    "print(f\"Accuracy of floresta aleátoria com scaler:{score}\")\n",
    "print('Média: {:.2} | Desvio: {:.2}'.format(np.mean(score), np.std(score)))"
   ]
  }
 ],
 "metadata": {
  "colab": {
   "provenance": []
  },
  "kernelspec": {
   "display_name": "Python 3 (ipykernel)",
   "language": "python",
   "name": "python3"
  },
  "language_info": {
   "codemirror_mode": {
    "name": "ipython",
    "version": 3
   },
   "file_extension": ".py",
   "mimetype": "text/x-python",
   "name": "python",
   "nbconvert_exporter": "python",
   "pygments_lexer": "ipython3",
   "version": "3.9.13"
  }
 },
 "nbformat": 4,
 "nbformat_minor": 1
}
