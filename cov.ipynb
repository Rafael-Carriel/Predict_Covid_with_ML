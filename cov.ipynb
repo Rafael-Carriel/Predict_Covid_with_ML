{
 "cells": [
  {
   "cell_type": "markdown",
   "id": "6ff11e88",
   "metadata": {},
   "source": [
    "In this cell takes place the import of the necessary tools."
   ]
  },
  {
   "cell_type": "code",
   "execution_count": 1,
   "id": "cc85e8d0",
   "metadata": {},
   "outputs": [],
   "source": [
    "import pandas as pd\n",
    "import seaborn as sns\n",
    "import numpy as np\n",
    "import warnings\n",
    "from datetime import datetime\n",
    "from sklearn.impute import SimpleImputer\n",
    "from sklearn.preprocessing import MinMaxScaler\n",
    "warnings.filterwarnings(\"ignore\")\n",
    "\n",
    "pd.set_option('display.max_columns', None)"
   ]
  },
  {
   "cell_type": "markdown",
   "id": "5d451ec2",
   "metadata": {},
   "source": [
    "Here is reading the dataset"
   ]
  },
  {
   "cell_type": "code",
   "execution_count": null,
   "id": "18c14833",
   "metadata": {},
   "outputs": [],
   "source": [
    "url = \"/datacov.csv\"\n",
    "data = pd.read_csv(url)\n",
    "data.info()\n",
    "print(f\"Read in {len(data)} rows\")"
   ]
  },
  {
   "cell_type": "code",
   "execution_count": null,
   "id": "ce0024b7",
   "metadata": {},
   "outputs": [],
   "source": [
    "vacines1 = x['FAB_COV_1'].unique()\n",
    "vacines2 = x['FAB_COV_2'].unique()\n",
    "vacines_lote = x['LAB_PR_COV'].unique()\n",
    "print(vacines1)\n",
    "print(\"\\n\\n\\n\")\n",
    "print(vacines2)\n",
    "print(\"\\n\\n\\n\")\n",
    "print(vacines_lote)"
   ]
  },
  {
   "cell_type": "markdown",
   "id": "beef7883",
   "metadata": {},
   "source": [
    "Here manually droping the columns containing irrelevant and redundant data "
   ]
  },
  {
   "cell_type": "code",
   "execution_count": null,
   "id": "0e47231c",
   "metadata": {
    "scrolled": true
   },
   "outputs": [],
   "source": [
    "data.drop(['DT_NASC', 'TP_IDADE','CS_ESCOL_N', 'CO_PAIS', 'DT_DIGITA', 'FNT_IN_COV', 'ID_PAIS','LOTE_2_COV','FAB_COV_1', \n",
    "        'AVE_SUINO', 'POS_PCRFLU', 'POS_PCROUT', 'HISTO_VGM', 'PCR_SARS2', 'ID_REGIONA','ID_MUNICIP','FAB_COV_2','LAB_PR_COV',\n",
    "        'ID_UNIDADE', 'ID_RG_RESI', 'ID_MN_RESI', 'ID_RG_INTE', 'ID_MN_INTE', 'COD_IDADE', 'LOTE_1_COV',\n",
    "          ], axis=1, inplace=True)\n",
    "data.info()"
   ]
  },
  {
   "cell_type": "markdown",
   "id": "9766fff7",
   "metadata": {},
   "source": [
    "Droping the lines with contain data of type 3 and 9"
   ]
  },
  {
   "cell_type": "code",
   "execution_count": null,
   "id": "55a305e5",
   "metadata": {},
   "outputs": [],
   "source": [
    "aux = data[(data['EVOLUCAO'] == 3) | (data['EVOLUCAO'] == 9)].index\n",
    "data.drop(aux, inplace=True)\n",
    "data.info()"
   ]
  },
  {
   "cell_type": "code",
   "execution_count": null,
   "id": "cebc7674",
   "metadata": {},
   "outputs": [],
   "source": [
    "x = data\n",
    "x.head()"
   ]
  },
  {
   "cell_type": "markdown",
   "id": "5eee61aa",
   "metadata": {},
   "source": [
    "keeping only state of Parana lines"
   ]
  },
  {
   "cell_type": "code",
   "execution_count": null,
   "id": "8d10bd8c",
   "metadata": {},
   "outputs": [],
   "source": [
    "aux = x[(x['SG_UF_NOT'] != 'PR')].index\n",
    "x.drop(aux , inplace=True)\n",
    "x.drop(['SG_UF_NOT','SG_UF','SG_UF_INTE'], axis=1, inplace=True)\n",
    "x.info()\n",
    "print(f\"Read in {len(x)} rows\")"
   ]
  },
  {
   "cell_type": "markdown",
   "id": "26b3398b",
   "metadata": {},
   "source": [
    "keeping only diagnosis of COVID19 lines"
   ]
  },
  {
   "cell_type": "code",
   "execution_count": null,
   "id": "ae79b1c3",
   "metadata": {},
   "outputs": [],
   "source": [
    "#mantém somente diagnóstico de COVID\n",
    "aux = x[(x['CLASSI_FIN'] != 5)].index\n",
    "x.drop(aux , inplace=True)\n",
    "x.drop(['CLASSI_FIN'], axis=1, inplace=True)\n",
    "x.info()\n",
    "print(f\"Read in {len(x)} rows\")"
   ]
  },
  {
   "cell_type": "code",
   "execution_count": null,
   "id": "8694207b",
   "metadata": {},
   "outputs": [],
   "source": [
    "number_columns = x[['SEM_NOT','SEM_PRI','NU_IDADE_N','CS_GESTANT','OBES_IMC']]\n",
    "x.drop(['SEM_NOT','SEM_PRI','NU_IDADE_N','CS_GESTANT','OBES_IMC'], axis=1, inplace=True)\n",
    "x.replace(9, np.nan)\n",
    "x = pd.concat([x, number_columns], axis=1)"
   ]
  },
  {
   "cell_type": "code",
   "execution_count": null,
   "id": "74967ad7",
   "metadata": {},
   "outputs": [],
   "source": [
    "x.head()"
   ]
  },
  {
   "cell_type": "code",
   "execution_count": null,
   "id": "c8cf9897",
   "metadata": {},
   "outputs": [],
   "source": [
    "#remoção das colunas com 50% de dados faltantes\n",
    "x.dropna(axis=1, how='any', thresh=9111, subset=None, inplace=True)\n",
    "x.info()\n",
    "print(f\"Read in {len(x)} rows\")"
   ]
  },
  {
   "cell_type": "code",
   "execution_count": null,
   "id": "f503a44e",
   "metadata": {},
   "outputs": [],
   "source": [
    "#Remoção das linhas com 50% de dados faltantes\n",
    "x.dropna(axis=0, thresh=38, subset=None, inplace=True)\n",
    "x.info()\n",
    "print(f\"Read in {len(x)} rows\")"
   ]
  },
  {
   "cell_type": "code",
   "execution_count": null,
   "id": "6f2dc60a",
   "metadata": {
    "scrolled": true
   },
   "outputs": [],
   "source": [
    "x.head()"
   ]
  },
  {
   "cell_type": "code",
   "execution_count": null,
   "id": "4e07bd82",
   "metadata": {},
   "outputs": [],
   "source": [
    "x['DT_NOTIFIC'] = pd.to_datetime(x['DT_NOTIFIC'])\n",
    "x['DT_ENCERRA'] = pd.to_datetime(x['DT_ENCERRA'])\n",
    "x['TEMP_T'] = (x['DT_ENCERRA'] - x['DT_NOTIFIC']).dt.days"
   ]
  },
  {
   "cell_type": "code",
   "execution_count": null,
   "id": "e1a5c630",
   "metadata": {},
   "outputs": [],
   "source": [
    "x.head()"
   ]
  },
  {
   "cell_type": "code",
   "execution_count": null,
   "id": "1d734fbb",
   "metadata": {},
   "outputs": [],
   "source": [
    "x['DT_SIN_PRI1'] = pd.to_datetime(x['DT_SIN_PRI'],infer_datetime_format=True, errors='coerce' ).apply(datetime.toordinal)\n",
    "x['DT_INTERNA1'] = pd.to_datetime(x['DT_INTERNA'], infer_datetime_format=True, errors='coerce').apply(datetime.toordinal)\n",
    "x['DT_COLETA1'] = pd.to_datetime(x['DT_COLETA'], infer_datetime_format=True, errors='coerce').apply(datetime.toordinal)\n",
    "x['DT_PCR1'] = pd.to_datetime(x['DT_PCR'], infer_datetime_format=True, errors='coerce').apply(datetime.toordinal)\n",
    "x['DT_EVOLUCA1'] = pd.to_datetime(x['DT_EVOLUCA'], infer_datetime_format=True, errors='coerce').apply(datetime.toordinal)\n",
    "x['DOSE_1_COV1'] = pd.to_datetime(x['DOSE_1_COV'], infer_datetime_format=True, errors='coerce').apply(datetime.toordinal)\n",
    "x['DOSE_2_COV1'] = pd.to_datetime(x['DOSE_2_COV'], infer_datetime_format=True, errors='coerce').apply(datetime.toordinal)\n",
    "x[\"CS_SEXO\"] = x[\"CS_SEXO\"].replace({\"F\": 0, \"M\": 1})\n",
    "x = x.drop(['DT_NOTIFIC', 'DT_SIN_PRI', 'DT_INTERNA', 'DT_COLETA', 'DT_PCR', 'DT_EVOLUCA', 'DT_ENCERRA', 'DOSE_1_COV', 'DOSE_2_COV'], axis=1)"
   ]
  },
  {
   "cell_type": "code",
   "execution_count": null,
   "id": "73795cae",
   "metadata": {},
   "outputs": [],
   "source": [
    "x.head()"
   ]
  },
  {
   "cell_type": "code",
   "execution_count": null,
   "id": "39e4b1f9",
   "metadata": {},
   "outputs": [],
   "source": [
    "dadosnumericos = x[['SEM_NOT', 'SEM_PRI', 'NU_IDADE_N', 'CS_GESTANT', 'DT_SIN_PRI1', 'DT_INTERNA1', 'DT_COLETA1',\n",
    "                   'DT_PCR1', 'DT_EVOLUCA1', 'TEMP_T', 'DOSE_1_COV1', 'DOSE_2_COV1']]\n",
    "\n",
    "x.drop(columns=['SEM_NOT', 'SEM_PRI', 'NU_IDADE_N', 'CS_GESTANT', 'DT_SIN_PRI1', 'DT_INTERNA1', 'DT_COLETA1', 'DT_PCR1', 'DT_EVOLUCA1', 'DOSE_1_COV1', 'DOSE_2_COV1'], inplace=True)\n",
    "\n",
    "imputer = SimpleImputer(missing_values=np.nan, strategy='median')\n",
    "nome = dadosnumericos.columns\n",
    "imputer = imputer.fit(dadosnumericos)\n",
    "dadosnumericos = imputer.transform(dadosnumericos)\n",
    "scaler = MinMaxScaler()\n",
    "dadosnumericos = scaler.fit_transform(dadosnumericos)\n",
    "dadosnumericos = pd.DataFrame(dadosnumericos)\n",
    "dadosnumericos.columns = nome\n",
    "\n",
    "\n",
    "imputer = SimpleImputer(missing_values=np.nan, strategy='most_frequent')\n",
    "nomes = x.columns\n",
    "imputer = imputer.fit(x)\n",
    "x = imputer.transform(x)\n",
    "x = pd.DataFrame(x)\n",
    "x.columns = nomes\n",
    "x = pd.concat([x, dadosnumericos], axis=1)\n",
    "x.loc[x['VACINA_COV'] == 2.0, ['DOSE_1_COV1', 'DOSE_2_COV1']] = 0"
   ]
  },
  {
   "cell_type": "code",
   "execution_count": null,
   "id": "2ccd6c1f",
   "metadata": {
    "scrolled": false
   },
   "outputs": [],
   "source": [
    "y = x['EVOLUCAO']\n",
    "x = x.drop(columns= 'EVOLUCAO')\n",
    "pd.set_option('display.max_rows', None)\n",
    "x.iloc[0:20, :]"
   ]
  },
  {
   "cell_type": "code",
   "execution_count": null,
   "id": "9c756c59",
   "metadata": {},
   "outputs": [],
   "source": [
    "from sklearn.model_selection import cross_val_score\n",
    "from sklearn.ensemble import RandomForestClassifier\n",
    "\n",
    "clf = RandomForestClassifier(max_depth=5, random_state=43)\n",
    "\n",
    "score = cross_val_score(clf, x, y, cv=10)\n",
    "print(f\"Accuracy of floresta aleátoria Classifier is:{score}\")\n",
    "print('Média: {:.2} | Desvio: {:.2}'.format(np.mean(score), np.std(score)))"
   ]
  },
  {
   "cell_type": "code",
   "execution_count": null,
   "id": "b401151c",
   "metadata": {},
   "outputs": [],
   "source": []
  }
 ],
 "metadata": {
  "kernelspec": {
   "display_name": "Python 3 (ipykernel)",
   "language": "python",
   "name": "python3"
  },
  "language_info": {
   "codemirror_mode": {
    "name": "ipython",
    "version": 3
   },
   "file_extension": ".py",
   "mimetype": "text/x-python",
   "name": "python",
   "nbconvert_exporter": "python",
   "pygments_lexer": "ipython3",
   "version": "3.9.13"
  }
 },
 "nbformat": 4,
 "nbformat_minor": 5
}
